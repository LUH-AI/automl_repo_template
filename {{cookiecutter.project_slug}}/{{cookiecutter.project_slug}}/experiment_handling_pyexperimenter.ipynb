{
 "cells": [
  {
   "cell_type": "code",
   "execution_count": 15,
   "metadata": {},
   "outputs": [],
   "source": [
    "import os\n",
    "from py_experimenter.experimenter import PyExperimenter"
   ]
  },
  {
   "cell_type": "markdown",
   "metadata": {},
   "source": [
    "### Defining Experiments\n",
    "For PyExperimenter, you'll mainly define your experiments in your experiment file. This is how the default file looks like:"
   ]
  },
  {
   "cell_type": "code",
   "execution_count": 16,
   "metadata": {},
   "outputs": [
    {
     "data": {
      "text/plain": [
       "'[PY_EXPERIMENTER]\\nprovider = sqlite\\ndatabase = py_experimenter\\ntable = example\\n\\nkeyfields = method:int, benchmark:int, seed:int\\nmethod = 1\\nbenchmark = 0\\nseed = 2:6:2\\nkernel = linear, poly, rbf, sigmoid\\n\\nresultfields = epoch:DECIMAL, train_loss:DECIMAL, train_acc:DECIMAL, val_loss:DECIMAL, val_acc:DECIMAL\\nresultfields.timestamps = false\\n\\n[CUSTOM]\\npath = sample_data\\n\\n[codecarbon]\\noffline_mode = False\\nmeasure_power_secs = 25\\ntracking_mode = process\\nlog_level = error\\nsave_to_file = True\\noutput_dir = output/CodeCarbon'"
      ]
     },
     "execution_count": 16,
     "metadata": {},
     "output_type": "execute_result"
    }
   ],
   "source": [
    "\"\"\"[PY_EXPERIMENTER]\n",
    "provider = sqlite\n",
    "database = py_experimenter\n",
    "table = example\n",
    "\n",
    "keyfields = method:int, benchmark:int, seed:int\n",
    "method = 1\n",
    "benchmark = 0\n",
    "seed = 2:6:2\n",
    "kernel = linear, poly, rbf, sigmoid\n",
    "\n",
    "resultfields = epoch:DECIMAL, train_loss:DECIMAL, train_acc:DECIMAL, val_loss:DECIMAL, val_acc:DECIMAL\n",
    "resultfields.timestamps = false\n",
    "\n",
    "[CUSTOM]\n",
    "path = sample_data\n",
    "\n",
    "[codecarbon]\n",
    "offline_mode = False\n",
    "measure_power_secs = 25\n",
    "tracking_mode = process\n",
    "log_level = error\n",
    "save_to_file = True\n",
    "output_dir = output/CodeCarbon\"\"\""
   ]
  },
  {
   "cell_type": "markdown",
   "metadata": {},
   "source": [
    "### Running Experiments\n",
    "Once you defined your experiments in the file, you can simply run 'cli.py' and execute all your experiments at once. For more details, please check out the documentation of the PyExperimenter!"
   ]
  },
  {
   "cell_type": "markdown",
   "metadata": {},
   "source": [
    "### Checking your Results\n",
    "The interesting part, of course, is to look at your results. To do that, we need to start an instance of the PyExperimenter:"
   ]
  },
  {
   "cell_type": "code",
   "execution_count": 17,
   "metadata": {},
   "outputs": [
    {
     "name": "stderr",
     "output_type": "stream",
     "text": [
      "2023-12-19 09:57:35,738  | py-experimenter - INFO     | Initialized and connected to database\n",
      "2023-12-19 09:57:35,739  | py-experimenter - INFO     | No rows to add. All the 3 experiments already exist.\n"
     ]
    },
    {
     "data": {
      "text/html": [
       "<div>\n",
       "<style scoped>\n",
       "    .dataframe tbody tr th:only-of-type {\n",
       "        vertical-align: middle;\n",
       "    }\n",
       "\n",
       "    .dataframe tbody tr th {\n",
       "        vertical-align: top;\n",
       "    }\n",
       "\n",
       "    .dataframe thead th {\n",
       "        text-align: right;\n",
       "    }\n",
       "</style>\n",
       "<table border=\"1\" class=\"dataframe\">\n",
       "  <thead>\n",
       "    <tr style=\"text-align: right;\">\n",
       "      <th></th>\n",
       "      <th>ID</th>\n",
       "      <th>method</th>\n",
       "      <th>benchmark</th>\n",
       "      <th>seed</th>\n",
       "      <th>creation_date</th>\n",
       "      <th>status</th>\n",
       "      <th>start_date</th>\n",
       "      <th>name</th>\n",
       "      <th>machine</th>\n",
       "      <th>done</th>\n",
       "      <th>end_date</th>\n",
       "      <th>error</th>\n",
       "    </tr>\n",
       "  </thead>\n",
       "  <tbody>\n",
       "    <tr>\n",
       "      <th>0</th>\n",
       "      <td>1</td>\n",
       "      <td>1</td>\n",
       "      <td>0</td>\n",
       "      <td>2</td>\n",
       "      <td>2023-12-19 09:48:00</td>\n",
       "      <td>done</td>\n",
       "      <td>2023-12-19 09:48:00</td>\n",
       "      <td>example</td>\n",
       "      <td>ip204.237.mip.uni-hannover.de</td>\n",
       "      <td>yes</td>\n",
       "      <td>2023-12-19 09:48:03</td>\n",
       "      <td>None</td>\n",
       "    </tr>\n",
       "    <tr>\n",
       "      <th>1</th>\n",
       "      <td>2</td>\n",
       "      <td>1</td>\n",
       "      <td>0</td>\n",
       "      <td>4</td>\n",
       "      <td>2023-12-19 09:48:00</td>\n",
       "      <td>done</td>\n",
       "      <td>2023-12-19 09:48:03</td>\n",
       "      <td>example</td>\n",
       "      <td>ip204.237.mip.uni-hannover.de</td>\n",
       "      <td>yes</td>\n",
       "      <td>2023-12-19 09:48:06</td>\n",
       "      <td>None</td>\n",
       "    </tr>\n",
       "    <tr>\n",
       "      <th>2</th>\n",
       "      <td>3</td>\n",
       "      <td>1</td>\n",
       "      <td>0</td>\n",
       "      <td>6</td>\n",
       "      <td>2023-12-19 09:48:00</td>\n",
       "      <td>done</td>\n",
       "      <td>2023-12-19 09:48:06</td>\n",
       "      <td>example</td>\n",
       "      <td>ip204.237.mip.uni-hannover.de</td>\n",
       "      <td>yes</td>\n",
       "      <td>2023-12-19 09:48:10</td>\n",
       "      <td>None</td>\n",
       "    </tr>\n",
       "  </tbody>\n",
       "</table>\n",
       "</div>"
      ],
      "text/plain": [
       "   ID  method  benchmark  seed        creation_date status  \\\n",
       "0   1       1          0     2  2023-12-19 09:48:00   done   \n",
       "1   2       1          0     4  2023-12-19 09:48:00   done   \n",
       "2   3       1          0     6  2023-12-19 09:48:00   done   \n",
       "\n",
       "            start_date     name                        machine done  \\\n",
       "0  2023-12-19 09:48:00  example  ip204.237.mip.uni-hannover.de  yes   \n",
       "1  2023-12-19 09:48:03  example  ip204.237.mip.uni-hannover.de  yes   \n",
       "2  2023-12-19 09:48:06  example  ip204.237.mip.uni-hannover.de  yes   \n",
       "\n",
       "              end_date error  \n",
       "0  2023-12-19 09:48:03  None  \n",
       "1  2023-12-19 09:48:06  None  \n",
       "2  2023-12-19 09:48:10  None  "
      ]
     },
     "execution_count": 17,
     "metadata": {},
     "output_type": "execute_result"
    }
   ],
   "source": [
    "experimenter = PyExperimenter(experiment_configuration_file_path=os.path.join(os.getcwd(), \"configs/base.cfg\"), name='example')\n",
    "experimenter.fill_table_from_config()\n",
    "experimenter.get_table()"
   ]
  },
  {
   "cell_type": "markdown",
   "metadata": {},
   "source": [
    "Now we can get our logged results - this is a pandas dataframe, so you can immediately use it with our plotting scripts!"
   ]
  },
  {
   "cell_type": "code",
   "execution_count": 18,
   "metadata": {},
   "outputs": [
    {
     "data": {
      "text/html": [
       "<div>\n",
       "<style scoped>\n",
       "    .dataframe tbody tr th:only-of-type {\n",
       "        vertical-align: middle;\n",
       "    }\n",
       "\n",
       "    .dataframe tbody tr th {\n",
       "        vertical-align: top;\n",
       "    }\n",
       "\n",
       "    .dataframe thead th {\n",
       "        text-align: right;\n",
       "    }\n",
       "</style>\n",
       "<table border=\"1\" class=\"dataframe\">\n",
       "  <thead>\n",
       "    <tr style=\"text-align: right;\">\n",
       "      <th></th>\n",
       "      <th>ID</th>\n",
       "      <th>experiment_id</th>\n",
       "      <th>timestamp</th>\n",
       "      <th>epoch</th>\n",
       "      <th>train_loss</th>\n",
       "      <th>train_acc</th>\n",
       "      <th>val_loss</th>\n",
       "      <th>val_acc</th>\n",
       "    </tr>\n",
       "  </thead>\n",
       "  <tbody>\n",
       "    <tr>\n",
       "      <th>0</th>\n",
       "      <td>1</td>\n",
       "      <td>1</td>\n",
       "      <td>2023-12-19 09:48:03</td>\n",
       "      <td>1</td>\n",
       "      <td>0.1</td>\n",
       "      <td>0.2</td>\n",
       "      <td>0.3</td>\n",
       "      <td>0.4</td>\n",
       "    </tr>\n",
       "    <tr>\n",
       "      <th>1</th>\n",
       "      <td>2</td>\n",
       "      <td>2</td>\n",
       "      <td>2023-12-19 09:48:06</td>\n",
       "      <td>1</td>\n",
       "      <td>0.1</td>\n",
       "      <td>0.2</td>\n",
       "      <td>0.3</td>\n",
       "      <td>0.4</td>\n",
       "    </tr>\n",
       "    <tr>\n",
       "      <th>2</th>\n",
       "      <td>3</td>\n",
       "      <td>3</td>\n",
       "      <td>2023-12-19 09:48:10</td>\n",
       "      <td>1</td>\n",
       "      <td>0.1</td>\n",
       "      <td>0.2</td>\n",
       "      <td>0.3</td>\n",
       "      <td>0.4</td>\n",
       "    </tr>\n",
       "  </tbody>\n",
       "</table>\n",
       "</div>"
      ],
      "text/plain": [
       "   ID  experiment_id            timestamp  epoch  train_loss  train_acc  \\\n",
       "0   1              1  2023-12-19 09:48:03      1         0.1        0.2   \n",
       "1   2              2  2023-12-19 09:48:06      1         0.1        0.2   \n",
       "2   3              3  2023-12-19 09:48:10      1         0.1        0.2   \n",
       "\n",
       "   val_loss  val_acc  \n",
       "0       0.3      0.4  \n",
       "1       0.3      0.4  \n",
       "2       0.3      0.4  "
      ]
     },
     "execution_count": 18,
     "metadata": {},
     "output_type": "execute_result"
    }
   ],
   "source": [
    "experimenter.get_logtable('train_scores')"
   ]
  }
 ],
 "metadata": {
  "kernelspec": {
   "display_name": "test_deepcave",
   "language": "python",
   "name": "python3"
  },
  "language_info": {
   "codemirror_mode": {
    "name": "ipython",
    "version": 3
   },
   "file_extension": ".py",
   "mimetype": "text/x-python",
   "name": "python",
   "nbconvert_exporter": "python",
   "pygments_lexer": "ipython3",
   "version": "3.9.18"
  }
 },
 "nbformat": 4,
 "nbformat_minor": 2
}
